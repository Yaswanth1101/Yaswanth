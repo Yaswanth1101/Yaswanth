{
  "nbformat": 4,
  "nbformat_minor": 0,
  "metadata": {
    "colab": {
      "provenance": []
    },
    "kernelspec": {
      "name": "python3",
      "display_name": "Python 3"
    },
    "language_info": {
      "name": "python"
    }
  },
  "cells": [
    {
      "cell_type": "code",
      "execution_count": 3,
      "metadata": {
        "colab": {
          "base_uri": "https://localhost:8080/"
        },
        "id": "EC13ejXZH3tu",
        "outputId": "d2ebc76b-f4ab-4322-9f72-8c5d16bd07a3"
      },
      "outputs": [
        {
          "output_type": "stream",
          "name": "stdout",
          "text": [
            "1,4,9,16,25,36,"
          ]
        }
      ],
      "source": [
        "list0 = [1,2,3,4,5,6]\n",
        "for j in list0:\n",
        "  print(j**2,end=\",\")"
      ]
    }
  ]
}