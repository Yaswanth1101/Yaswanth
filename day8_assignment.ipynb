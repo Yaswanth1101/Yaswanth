{
  "nbformat": 4,
  "nbformat_minor": 0,
  "metadata": {
    "colab": {
      "provenance": []
    },
    "kernelspec": {
      "name": "python3",
      "display_name": "Python 3"
    },
    "language_info": {
      "name": "python"
    }
  },
  "cells": [
    {
      "cell_type": "code",
      "execution_count": 3,
      "metadata": {
        "colab": {
          "base_uri": "https://localhost:8080/"
        },
        "id": "r_-0oZqRjAUy",
        "outputId": "6da84839-3fd6-453e-e661-f9b3d6ecda44"
      },
      "outputs": [
        {
          "output_type": "stream",
          "name": "stdout",
          "text": [
            "[2, 4]\n"
          ]
        }
      ],
      "source": [
        "list1 = [1,2,3,4]\n",
        "def fun(i):\n",
        "  return i%2==0\n",
        "list2 = filter(fun,list1)\n",
        "result = list(list2)\n",
        "print(result)"
      ]
    },
    {
      "cell_type": "code",
      "source": [
        "list2"
      ],
      "metadata": {
        "colab": {
          "base_uri": "https://localhost:8080/"
        },
        "id": "LlAR6-SokExT",
        "outputId": "4111ed54-d634-4382-d3f7-b926ca858012"
      },
      "execution_count": 4,
      "outputs": [
        {
          "output_type": "execute_result",
          "data": {
            "text/plain": [
              "<filter at 0x7ca481f004c0>"
            ]
          },
          "metadata": {},
          "execution_count": 4
        }
      ]
    },
    {
      "cell_type": "code",
      "source": [],
      "metadata": {
        "id": "ZVRINYeQp3j0"
      },
      "execution_count": null,
      "outputs": []
    }
  ]
}